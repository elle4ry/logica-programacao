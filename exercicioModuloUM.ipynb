{
  "nbformat": 4,
  "nbformat_minor": 0,
  "metadata": {
    "colab": {
      "provenance": []
    },
    "kernelspec": {
      "name": "python3",
      "display_name": "Python 3"
    },
    "language_info": {
      "name": "python"
    }
  },
  "cells": [
    {
      "cell_type": "code",
      "execution_count": 2,
      "metadata": {
        "colab": {
          "base_uri": "https://localhost:8080/",
          "height": 391
        },
        "id": "ycC5-yqVNBaq",
        "outputId": "847479c8-1cc5-40aa-ffc1-9b16b21e08f3"
      },
      "outputs": [
        {
          "output_type": "stream",
          "name": "stdout",
          "text": [
            "Bem vindo(a) calculadora!\n"
          ]
        },
        {
          "output_type": "error",
          "ename": "KeyboardInterrupt",
          "evalue": "Interrupted by user",
          "traceback": [
            "\u001b[0;31m---------------------------------------------------------------------------\u001b[0m",
            "\u001b[0;31mKeyboardInterrupt\u001b[0m                         Traceback (most recent call last)",
            "\u001b[0;32m/tmp/ipython-input-304084374.py\u001b[0m in \u001b[0;36m<cell line: 0>\u001b[0;34m()\u001b[0m\n\u001b[1;32m      7\u001b[0m \u001b[0;34m\u001b[0m\u001b[0m\n\u001b[1;32m      8\u001b[0m   \u001b[0mprint\u001b[0m\u001b[0;34m(\u001b[0m\u001b[0;34m'Bem vindo(a) calculadora!'\u001b[0m\u001b[0;34m)\u001b[0m\u001b[0;34m\u001b[0m\u001b[0;34m\u001b[0m\u001b[0m\n\u001b[0;32m----> 9\u001b[0;31m   \u001b[0mcalculo\u001b[0m \u001b[0;34m=\u001b[0m \u001b[0minput\u001b[0m\u001b[0;34m(\u001b[0m\u001b[0;34m'\\nQue tipo de operação você deseja fazer?'\u001b[0m\u001b[0;34m)\u001b[0m\u001b[0;34m\u001b[0m\u001b[0;34m\u001b[0m\u001b[0m\n\u001b[0m\u001b[1;32m     10\u001b[0m   \u001b[0mcase\u001b[0m \u001b[0;34m=\u001b[0m \u001b[0mcalculo\u001b[0m\u001b[0;34m.\u001b[0m\u001b[0mlower\u001b[0m\u001b[0;34m(\u001b[0m\u001b[0;34m)\u001b[0m\u001b[0;34m\u001b[0m\u001b[0;34m\u001b[0m\u001b[0m\n\u001b[1;32m     11\u001b[0m \u001b[0;34m\u001b[0m\u001b[0m\n",
            "\u001b[0;32m/usr/local/lib/python3.11/dist-packages/ipykernel/kernelbase.py\u001b[0m in \u001b[0;36mraw_input\u001b[0;34m(self, prompt)\u001b[0m\n\u001b[1;32m   1175\u001b[0m                 \u001b[0;34m\"raw_input was called, but this frontend does not support input requests.\"\u001b[0m\u001b[0;34m\u001b[0m\u001b[0;34m\u001b[0m\u001b[0m\n\u001b[1;32m   1176\u001b[0m             )\n\u001b[0;32m-> 1177\u001b[0;31m         return self._input_request(\n\u001b[0m\u001b[1;32m   1178\u001b[0m             \u001b[0mstr\u001b[0m\u001b[0;34m(\u001b[0m\u001b[0mprompt\u001b[0m\u001b[0;34m)\u001b[0m\u001b[0;34m,\u001b[0m\u001b[0;34m\u001b[0m\u001b[0;34m\u001b[0m\u001b[0m\n\u001b[1;32m   1179\u001b[0m             \u001b[0mself\u001b[0m\u001b[0;34m.\u001b[0m\u001b[0m_parent_ident\u001b[0m\u001b[0;34m[\u001b[0m\u001b[0;34m\"shell\"\u001b[0m\u001b[0;34m]\u001b[0m\u001b[0;34m,\u001b[0m\u001b[0;34m\u001b[0m\u001b[0;34m\u001b[0m\u001b[0m\n",
            "\u001b[0;32m/usr/local/lib/python3.11/dist-packages/ipykernel/kernelbase.py\u001b[0m in \u001b[0;36m_input_request\u001b[0;34m(self, prompt, ident, parent, password)\u001b[0m\n\u001b[1;32m   1217\u001b[0m             \u001b[0;32mexcept\u001b[0m \u001b[0mKeyboardInterrupt\u001b[0m\u001b[0;34m:\u001b[0m\u001b[0;34m\u001b[0m\u001b[0;34m\u001b[0m\u001b[0m\n\u001b[1;32m   1218\u001b[0m                 \u001b[0;31m# re-raise KeyboardInterrupt, to truncate traceback\u001b[0m\u001b[0;34m\u001b[0m\u001b[0;34m\u001b[0m\u001b[0m\n\u001b[0;32m-> 1219\u001b[0;31m                 \u001b[0;32mraise\u001b[0m \u001b[0mKeyboardInterrupt\u001b[0m\u001b[0;34m(\u001b[0m\u001b[0;34m\"Interrupted by user\"\u001b[0m\u001b[0;34m)\u001b[0m \u001b[0;32mfrom\u001b[0m \u001b[0;32mNone\u001b[0m\u001b[0;34m\u001b[0m\u001b[0;34m\u001b[0m\u001b[0m\n\u001b[0m\u001b[1;32m   1220\u001b[0m             \u001b[0;32mexcept\u001b[0m \u001b[0mException\u001b[0m\u001b[0;34m:\u001b[0m\u001b[0;34m\u001b[0m\u001b[0;34m\u001b[0m\u001b[0m\n\u001b[1;32m   1221\u001b[0m                 \u001b[0mself\u001b[0m\u001b[0;34m.\u001b[0m\u001b[0mlog\u001b[0m\u001b[0;34m.\u001b[0m\u001b[0mwarning\u001b[0m\u001b[0;34m(\u001b[0m\u001b[0;34m\"Invalid Message:\"\u001b[0m\u001b[0;34m,\u001b[0m \u001b[0mexc_info\u001b[0m\u001b[0;34m=\u001b[0m\u001b[0;32mTrue\u001b[0m\u001b[0;34m)\u001b[0m\u001b[0;34m\u001b[0m\u001b[0;34m\u001b[0m\u001b[0m\n",
            "\u001b[0;31mKeyboardInterrupt\u001b[0m: Interrupted by user"
          ]
        }
      ],
      "source": [
        "# Calculadora\n",
        "\n",
        "# Inicializa como True para entrar no loop pela primeira vez\n",
        "continuar = True\n",
        "\n",
        "while continuar:\n",
        "\n",
        "  print('Bem vindo(a) calculadora!')\n",
        "  calculo = input('\\nQue tipo de operação você deseja fazer?')\n",
        "  case = calculo.lower()\n",
        "\n",
        "  if case == 'soma':\n",
        "    print('Certo!')\n",
        "    numeroUM = float(input('Digite o primeiro número:\\n '))\n",
        "    numeroDOIS = float(input('Digite o segundo número:\\n '))\n",
        "    numeroUM_convert = int (numeroUM)\n",
        "    numeroDOIS_convert = int (numeroDOIS)\n",
        "    soma = numeroUM + numeroDOIS\n",
        "    print('O resultado da soma é:', soma)\n",
        "\n",
        "  elif case == 'subtração':\n",
        "    print('Certo!')\n",
        "    numeroUM = float(input('Digite o primeiro número:\\n '))\n",
        "    numeroDOIS = float(input('Digite o segundo número:\\n '))\n",
        "    numeroUM_convert = int (numeroUM)\n",
        "    numeroDOIS_convert = int (numeroDOIS)\n",
        "    subtracao = numeroUM - numeroDOIS\n",
        "    print('O resultado da subtração é:', subtracao)\n",
        "\n",
        "  elif case == 'multiplicação':\n",
        "    print('Certo!')\n",
        "    numeroUM = float(input('Digite o primeiro número:\\n '))\n",
        "    numeroDOIS = float(input('Digite o segundo número:\\n '))\n",
        "    numeroUM_convert = int (numeroUM)\n",
        "    numeroDOIS_convert = int (numeroDOIS)\n",
        "    multiplicacao = numeroUM * numeroDOIS\n",
        "    print('O resultado da multiplicação é:', multiplicacao)\n",
        "\n",
        "  elif case == 'divisão':\n",
        "    print('Certo!')\n",
        "    numeroUM = float(input('Digite o primeiro número:\\n '))\n",
        "    numeroDOIS = float(input('Digite o segundo número:\\n '))\n",
        "    numeroUM_convert = int (numeroUM)\n",
        "    numeroDOIS_convert = int (numeroDOIS)\n",
        "    divisao = numeroUM / numeroDOIS\n",
        "    print('O resultado da divisão é:', divisao)\n",
        "\n",
        "  else:\n",
        "    print('Operação inválida. Tente novamente.')\n",
        "\n",
        "  resposta = input(\"Deseja realizar outra operação?\\n Digite 'sim' ou 'não': \")\n",
        "\n",
        "  numeroUM = 0\n",
        "  numeroDOIS = 0\n",
        "  soma = 0\n",
        "  subtracao = 0\n",
        "  multiplicacao = 0\n",
        "  divisao = 0\n",
        "  case = ''\n",
        "  calculo = ''\n",
        "\n",
        "  if resposta.lower() == 'não':\n",
        "    continuar = False\n",
        "  elif resposta.lower() != 'sim':\n",
        "    print('Resposta inválida. \\n Digite \"sim\" ou \"não\".')\n",
        "    resposta = ''\n",
        "\n",
        "else:\n",
        "  print('Você saiu da calculadora.')"
      ]
    }
  ]
}